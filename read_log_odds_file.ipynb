{
 "cells": [
  {
   "cell_type": "code",
   "execution_count": null,
   "id": "dd203448-2edd-47ee-9ba4-c158dc75048a",
   "metadata": {},
   "outputs": [],
   "source": [
    "import h5py\n",
    "import numpy as np"
   ]
  },
  {
   "cell_type": "code",
   "execution_count": null,
   "id": "8e1e20b1-191c-46a5-8586-6f74c56b54d8",
   "metadata": {},
   "outputs": [],
   "source": [
    "path = './data/logodds.h5'\n",
    "\n",
    "h5 = h5py.File(path,'r')"
   ]
  },
  {
   "cell_type": "code",
   "execution_count": null,
   "id": "939d6a6d-0e2d-4108-90da-8ecc03efeee2",
   "metadata": {},
   "outputs": [],
   "source": [
    "print(h5.keys())"
   ]
  },
  {
   "cell_type": "code",
   "execution_count": null,
   "id": "6187672d-b306-43b2-8a33-b59a17fb69d5",
   "metadata": {},
   "outputs": [],
   "source": [
    "logodds = np.array(h5['seq1'])"
   ]
  },
  {
   "cell_type": "code",
   "execution_count": null,
   "id": "859e0e07-120b-4863-be8b-7f41ddf40339",
   "metadata": {},
   "outputs": [],
   "source": [
    "# shape of file should be [L,20] for length of sequence (L) and 20 different amino acids\n",
    "print(logodds.shape)"
   ]
  },
  {
   "cell_type": "code",
   "execution_count": null,
   "id": "f1b2344b-e835-401a-b2b7-a58f91428ef5",
   "metadata": {},
   "outputs": [],
   "source": [
    "# Convert log odds to probability (p):\n",
    "# log odds = logit(p) = log(p/(1-p))\n",
    "\n",
    "# We'll call logit(p), lp for short\n",
    "# exp(lp) = p/(1-p)\n",
    "# exp(lp) = p/(p(1/p - 1)) = 1/(1/p - 1)\n",
    "# 1/p - 1 = 1/exp(lp)\n",
    "# 1/p = 1/exp(lp) + 1\n",
    "# 1/p = (1+ exp(lp))/exp(lp)\n",
    "# p = exp(lp)/(1 + exp(lp))\n",
    "\n",
    "probs = np.exp(logodds)/(1+np.exp(logodds))"
   ]
  }
 ],
 "metadata": {
  "kernelspec": {
   "display_name": "Python 3 (ipykernel)",
   "language": "python",
   "name": "python3"
  },
  "language_info": {
   "codemirror_mode": {
    "name": "ipython",
    "version": 3
   },
   "file_extension": ".py",
   "mimetype": "text/x-python",
   "name": "python",
   "nbconvert_exporter": "python",
   "pygments_lexer": "ipython3",
   "version": "3.10.0"
  }
 },
 "nbformat": 4,
 "nbformat_minor": 5
}
