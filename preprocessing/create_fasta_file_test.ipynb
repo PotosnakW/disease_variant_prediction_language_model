{
 "cells": [
  {
   "cell_type": "code",
   "execution_count": null,
   "id": "c67b169b-ac65-4c5c-a68a-c7ef27e2e601",
   "metadata": {},
   "outputs": [],
   "source": []
  },
  {
   "cell_type": "code",
   "execution_count": 1,
   "id": "0fe873d0-e0d3-455d-a230-020f602f9813",
   "metadata": {},
   "outputs": [],
   "source": [
    "sequences = {\"seq1\":\"ATCGAAA\",\"seq2\":\"ATGCTACGTACG\",\"seq3\":\"AATCATCGATCG\"}"
   ]
  },
  {
   "cell_type": "code",
   "execution_count": 2,
   "id": "5e5d4a78-cfa6-4a99-b5f8-ba87fd702864",
   "metadata": {},
   "outputs": [],
   "source": [
    "output_path = 'test_fasta_file.txt'\n",
    "output_file = open(output_path,'w')"
   ]
  },
  {
   "cell_type": "code",
   "execution_count": 3,
   "id": "e8902a15-aa52-4952-bc0b-5cde81ae3d71",
   "metadata": {},
   "outputs": [],
   "source": [
    "for seq_id, seq in sequences.items():\n",
    "    identifier_line = \">\" + seq_id + \"\\n\"\n",
    "    output_file.write(identifier_line)\n",
    "    sequence_line = seq + \"\\n\"\n",
    "    output_file.write(sequence_line)\n",
    "    \n",
    "#Close the file when we're done\n",
    "output_file.close()"
   ]
  },
  {
   "cell_type": "code",
   "execution_count": 4,
   "id": "ce28192b-9d3c-4201-8d4d-6790a8c8fb56",
   "metadata": {},
   "outputs": [
    {
     "name": "stdout",
     "output_type": "stream",
     "text": [
      ">seq1\n",
      "ATCGAAA\n",
      ">seq2\n",
      "ATGCTACGTACG\n",
      ">seq3\n",
      "AATCATCGATCG\n"
     ]
    }
   ],
   "source": [
    "input_file = open('test_fasta_file.txt')\n",
    "for line in input_file:\n",
    "    print(line.strip())"
   ]
  },
  {
   "cell_type": "code",
   "execution_count": null,
   "id": "1f9577c4-d270-474e-8513-12c2cf9e9903",
   "metadata": {},
   "outputs": [],
   "source": []
  }
 ],
 "metadata": {
  "kernelspec": {
   "display_name": "Python 3 (ipykernel)",
   "language": "python",
   "name": "python3"
  },
  "language_info": {
   "codemirror_mode": {
    "name": "ipython",
    "version": 3
   },
   "file_extension": ".py",
   "mimetype": "text/x-python",
   "name": "python",
   "nbconvert_exporter": "python",
   "pygments_lexer": "ipython3",
   "version": "3.10.0"
  }
 },
 "nbformat": 4,
 "nbformat_minor": 5
}
