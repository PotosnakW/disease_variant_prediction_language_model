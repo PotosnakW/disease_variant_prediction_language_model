{
 "cells": [
  {
   "cell_type": "code",
   "execution_count": 21,
   "id": "9412e2f1-2ec2-4b98-bd90-2d3c4f3b4786",
   "metadata": {},
   "outputs": [],
   "source": [
    "import os\n",
    "import numpy as np\n",
    "import pandas as pd\n",
    "import argparse\n",
    "import pickle\n",
    "import tqdm\n",
    "import json\n",
    "from sklearn import mixture, linear_model, svm, gaussian_process\n",
    "import h5py"
   ]
  },
  {
   "cell_type": "code",
   "execution_count": null,
   "id": "05e8dd87-8401-45d6-bddb-1163442dc930",
   "metadata": {},
   "outputs": [],
   "source": []
  },
  {
   "cell_type": "code",
   "execution_count": 22,
   "id": "9af81e90-dcc0-4666-8b86-1c7b465c3f19",
   "metadata": {},
   "outputs": [],
   "source": [
    "def get_stratified_blocked_train_test_idxs(df, sample_id_label, class_label, test_size=0.20, random_state=0):\n",
    "    np.random.seed(random_state)\n",
    "    \n",
    "    class_mean = df.groupby([sample_id_label]).ClinVar_labels.mean()\n",
    "    class_quantiles = pd.qcut(dataset.groupby('protein_name').ClinVar_labels.mean(), 10)\n",
    "    \n",
    "    quantile_df = {}\n",
    "    for gi, quant in enumerate(set(class_quantiles.values.to_list())):\n",
    "        quantile_df[quant] = gi\n",
    "    class_quantiles = class_quantiles.replace(quantile_df)\n",
    "    \n",
    "    train_sample_ids = []\n",
    "    test_sample_ids = []\n",
    "    for q in set(class_quantiles.values):\n",
    "        b = class_quantiles[class_quantiles==q].copy().index.values\n",
    "        test_sample_ids.extend(b[:round(len(b)*test_size)])\n",
    "        train_sample_ids.extend(b[round(len(b)*test_size):])\n",
    "    \n",
    "    train_idxs = np.where(np.in1d(df[sample_id_label], np.array(train_sample_ids)))[0]   \n",
    "    test_idxs = np.where(np.in1d(df[sample_id_label], np.array(test_sample_ids)))[0] \n",
    "                                \n",
    "    return train_idxs, test_idxs"
   ]
  },
  {
   "cell_type": "code",
   "execution_count": null,
   "id": "c5928da2-be12-4bc6-8628-d8d67b7182be",
   "metadata": {},
   "outputs": [],
   "source": []
  },
  {
   "cell_type": "code",
   "execution_count": 31,
   "id": "808a0387-90ea-4a57-9575-7375c715c5ab",
   "metadata": {},
   "outputs": [],
   "source": [
    "data_dir = '/home/scratch/wpotosna/disease_variant_prediction_language_model/data'\n",
    "logodds_dir = '/home/scratch/wpotosna/data'\n",
    "gmm_dir = '/home/scratch/wpotosna/gmm'\n",
    "\n",
    "mapping_file = pd.read_csv(data_dir+'/labels/ClinVar_labels_P53_PTEN_RASH_SCN5A.csv',low_memory=False)\n",
    "protein_list = [i.replace('.txt', '') for i in os.listdir(data_dir+'/wildtype_protein_sequences/') if (i != 'ACHA_HUMAN')& (i!='.ipynb_checkpoints')]\n",
    "list_variables_to_keep=['protein_name','mutations','evol_indices']\n",
    "protein_GMM_weight = 0.3\n",
    "\n",
    "\n",
    "labels = pd.read_csv(data_dir+'/labels/PTEN_ClinVar_labels.csv')\n",
    "logodds = pd.read_csv(logodds_dir+'/single_logodds.csv', sep=';')\n",
    "\n",
    "protein_names = ['_'.join(i.split('_')[:-1]) for i in logodds.SeqID_SAV.values]\n",
    "mutation_names = [i.split('_')[-1] for i in logodds.SeqID_SAV.values]\n",
    "\n",
    "df = pd.DataFrame(data=[protein_names, mutation_names, logodds.SAV_score.values]).T\n",
    "df.columns = ['protein_name', 'mutations', 'SAV_score']\n",
    "df.set_index(['protein_name', 'mutations'], inplace=True)\n",
    "\n",
    "clinvar_labels = labels.set_index(['protein_name', 'mutations']).loc[df.index.values]\n",
    "\n",
    "dataset = pd.concat([df, clinvar_labels], axis=1)\n",
    "dataset.reset_index(inplace=True, drop=False)\n",
    "\n",
    "dataset.drop(index=dataset[dataset.protein_name=='ALAT2_HUMAN'].index.values[0], inplace=True)\n",
    "\n",
    "\n",
    "train_idxs, test_idxs = get_stratified_blocked_train_test_idxs(df=dataset, \n",
    "                                                               sample_id_label='protein_name', \n",
    "                                                               class_label='ClinVar_labels', \n",
    "                                                               test_size=0.20, \n",
    "                                                               random_state=0)\n",
    "# EVE computes negative log ratio: -(log(Xv) - log(Xw))\n",
    "dataset.SAV_score = dataset.SAV_score*(-1)\n",
    "X_train = dataset.iloc[train_idxs]\n",
    "X_test = dataset.iloc[test_idxs]"
   ]
  },
  {
   "cell_type": "code",
   "execution_count": null,
   "id": "ae2012c0-59c5-4436-b275-f3111088e127",
   "metadata": {},
   "outputs": [],
   "source": []
  },
  {
   "cell_type": "code",
   "execution_count": null,
   "id": "00412705-5afb-49b9-9a6a-e754503836f6",
   "metadata": {},
   "outputs": [],
   "source": []
  },
  {
   "cell_type": "code",
   "execution_count": 32,
   "id": "708669c8-1db6-4b0a-91d0-b213879e36bf",
   "metadata": {},
   "outputs": [
    {
     "name": "stderr",
     "output_type": "stream",
     "text": [
      "Training all protein GMMs: 100%|█████████████████████████████████████████████████████████| 103/103 [00:00<00:00, 118.38it/s]\n"
     ]
    }
   ],
   "source": [
    "dict_models = {}\n",
    "dict_pathogenic_cluster_index = {}\n",
    "\n",
    "main_GMM = mixture.GaussianMixture(n_components=2, covariance_type='full',max_iter=1000,n_init=30,tol=1e-4)\n",
    "main_GMM.fit(X_train.SAV_score.values.reshape(-1, 1))\n",
    "        \n",
    "dict_models['main'] = main_GMM\n",
    "pathogenic_cluster_index = np.argmax(np.array(main_GMM.means_).flatten()) #The pathogenic cluster is the cluster with higher mean value\n",
    "dict_pathogenic_cluster_index['main'] = pathogenic_cluster_index\n",
    "\n",
    "with open(gmm_dir+'/gmm_stats.csv', \"a\") as logs:\n",
    "    logs.write(\",\".join(str(x) for x in [\n",
    "        'main', np.array(main_GMM.weights_).flatten()[dict_pathogenic_cluster_index['main']], np.array(main_GMM.means_).flatten()[dict_pathogenic_cluster_index['main']],\n",
    "        np.array(main_GMM.means_).flatten()[1 - dict_pathogenic_cluster_index['main']], np.sqrt(np.array(main_GMM.covariances_).flatten()[dict_pathogenic_cluster_index['main']]),\n",
    "        np.sqrt(np.array(main_GMM.covariances_).flatten()[1 - dict_pathogenic_cluster_index['main']])])+\"\\n\")\n",
    "\n",
    "for protein in tqdm.tqdm(dataset.protein_name.unique(), \"Training all protein GMMs\"):\n",
    "    X_train_protein = dataset[dataset.protein_name==protein].SAV_score.values.reshape(-1, 1)\n",
    "    if len(X_train_protein) > 0: #We have evol indices computed for protein on file\n",
    "        protein_GMM = mixture.GaussianMixture(n_components=2,covariance_type='full',max_iter=1000,tol=1e-4,weights_init=main_GMM.weights_,means_init=main_GMM.means_,precisions_init=main_GMM.precisions_)\n",
    "        protein_GMM.fit(X_train_protein)\n",
    "        dict_models[protein] = protein_GMM\n",
    "        dict_pathogenic_cluster_index[protein] = np.argmax(np.array(protein_GMM.means_).flatten())\n",
    "        with open(gmm_dir+'/gmm_stats.csv', \"a\") as logs:\n",
    "            logs.write(\",\".join(str(x) for x in [\n",
    "                protein, np.array(protein_GMM.weights_).flatten()[dict_pathogenic_cluster_index[protein]], np.array(protein_GMM.means_).flatten()[dict_pathogenic_cluster_index[protein]],\n",
    "                np.array(protein_GMM.means_).flatten()[1 - dict_pathogenic_cluster_index[protein]], np.sqrt(np.array(protein_GMM.covariances_).flatten()[dict_pathogenic_cluster_index[protein]]),\n",
    "                np.sqrt(np.array(protein_GMM.covariances_).flatten()[1 - dict_pathogenic_cluster_index[protein]])\n",
    "                ])+\"\\n\")\n",
    "\n",
    "pickle.dump(dict_models, open(gmm_dir+'/GMM_model_dictionary.pkl', 'wb'))\n",
    "pickle.dump(dict_pathogenic_cluster_index, open(gmm_dir+'/GMM_pathogenic_cluster_index_dictionary.pkl', 'wb'))\n"
   ]
  },
  {
   "cell_type": "code",
   "execution_count": null,
   "id": "66b61f48-13be-4139-bc0c-dc12ac817a71",
   "metadata": {},
   "outputs": [],
   "source": []
  },
  {
   "cell_type": "markdown",
   "id": "344cd5ce-3b60-49b9-8592-141f2cb80ad8",
   "metadata": {},
   "source": [
    "# Compute EVE scores\n"
   ]
  },
  {
   "cell_type": "code",
   "execution_count": 33,
   "id": "ec1764b6-387a-4e03-a0d7-6adba3c0fbbe",
   "metadata": {},
   "outputs": [],
   "source": [
    "\n",
    "\n",
    "def compute_weighted_score_two_GMMs(X_pred, main_model, protein_model, cluster_index_main, cluster_index_protein, protein_weight):\n",
    "    return protein_model.predict_proba(X_pred)[:,cluster_index_protein] * protein_weight + (main_model.predict_proba(X_pred)[:,cluster_index_main]) * (1 - protein_weight)\n",
    "\n",
    "def compute_weighted_class_two_GMMs(X_pred, main_model, protein_model, cluster_index_main, cluster_index_protein, protein_weight):\n",
    "    \"\"\"By construct, 1 is always index of pathogenic, 0 always that of benign\"\"\"\n",
    "    proba_pathogenic = protein_model.predict_proba(X_pred)[:,cluster_index_protein] * protein_weight + (main_model.predict_proba(X_pred)[:,cluster_index_main]) * (1 - protein_weight)\n",
    "    return (proba_pathogenic > 0.5).astype(int)\n",
    "\n",
    "def compute_EVE_scores(X_test, dict_models, dict_pathogenic_cluster_index, protein_GMM_weight):\n",
    "    all_scores = X_test.copy()\n",
    "    if protein_GMM_weight > 0.0:\n",
    "        for protein in tqdm.tqdm(X_test.protein_name.unique(),\"Scoring all protein mutations\"):\n",
    "            \n",
    "            X_test_protein = X_test[X_test.protein_name==protein].SAV_score.values.reshape(-1, 1)\n",
    "            mutation_scores_protein = compute_weighted_score_two_GMMs(X_pred=X_test_protein, \n",
    "                                                                            main_model = dict_models['main'], \n",
    "                                                                            protein_model=dict_models[protein], \n",
    "                                                                            cluster_index_main = dict_pathogenic_cluster_index['main'], \n",
    "                                                                            cluster_index_protein = dict_pathogenic_cluster_index[protein], \n",
    "                                                                            protein_weight = protein_GMM_weight)\n",
    "            gmm_class_protein = compute_weighted_class_two_GMMs(X_pred=X_test_protein, \n",
    "                                                                            main_model = dict_models['main'], \n",
    "                                                                            protein_model=dict_models[protein], \n",
    "                                                                            cluster_index_main = dict_pathogenic_cluster_index['main'], \n",
    "                                                                            cluster_index_protein = dict_pathogenic_cluster_index[protein], \n",
    "                                                                            protein_weight = protein_GMM_weight)\n",
    "\n",
    "            gmm_class_label_protein = pd.Series(gmm_class_protein).map(lambda x: 'Pathogenic' if x == 1 else 'Benign')\n",
    "                    \n",
    "            all_scores.loc[all_scores.protein_name==protein, 'EVE_scores'] = np.array(mutation_scores_protein)\n",
    "            all_scores.loc[all_scores.protein_name==protein, 'EVE_classes_100_pct_retained'] = np.array(gmm_class_label_protein)\n",
    "            all_scores.loc[all_scores.EVE_classes_100_pct_retained=='Benign', 'EVE_classes_100_pct_retained'] = 0.0\n",
    "            all_scores.loc[all_scores.EVE_classes_100_pct_retained=='Pathogenic', 'EVE_classes_100_pct_retained'] = 1.0\n",
    "\n",
    "    else:\n",
    "        all_scores = all_evol_indices.copy()\n",
    "        mutation_scores = dict_models['main'].predict_proba(np.array(all_scores['evol_indices']).reshape(-1, 1))\n",
    "        all_scores['EVE_scores'] = mutation_scores[:,dict_pathogenic_cluster_index['main']]\n",
    "        gmm_class = dict_models['main'].predict(np.array(all_scores['evol_indices']).reshape(-1, 1))\n",
    "        all_scores['EVE_classes_100_pct_retained'] = np.array(pd.Series(gmm_class).map(lambda x: 'Pathogenic' if x == dict_pathogenic_cluster_index['main'] else 'Benign'))\n",
    "        \n",
    "    return all_scores"
   ]
  },
  {
   "cell_type": "code",
   "execution_count": 34,
   "id": "42387419-2ee4-415a-8ea2-cd94524d09ac",
   "metadata": {},
   "outputs": [
    {
     "name": "stderr",
     "output_type": "stream",
     "text": [
      "Scoring all protein mutations: 100%|███████████████████████████████████████████████████████| 20/20 [00:00<00:00, 367.23it/s]\n"
     ]
    }
   ],
   "source": [
    "test_results = compute_EVE_scores(X_test, dict_models, dict_pathogenic_cluster_index, protein_GMM_weight)\n",
    "test_results.to_csv(logodds_dir+'/test_results.csv', index=False)"
   ]
  },
  {
   "cell_type": "code",
   "execution_count": null,
   "id": "51443a9e-383c-4a15-9851-40802efef8bf",
   "metadata": {},
   "outputs": [],
   "source": []
  },
  {
   "cell_type": "code",
   "execution_count": 35,
   "id": "fa4cb8b1-c5cd-4742-b6d5-5b68fe20c816",
   "metadata": {},
   "outputs": [
    {
     "name": "stderr",
     "output_type": "stream",
     "text": [
      "Scoring all protein mutations: 100%|███████████████████████████████████████████████████████| 83/83 [00:00<00:00, 316.09it/s]\n"
     ]
    }
   ],
   "source": [
    "train_results = compute_EVE_scores(X_train, dict_models, dict_pathogenic_cluster_index, protein_GMM_weight)"
   ]
  },
  {
   "cell_type": "code",
   "execution_count": 36,
   "id": "016bdcd2-bc16-4188-a82a-8351646a75df",
   "metadata": {},
   "outputs": [],
   "source": [
    "train_results.to_csv(logodds_dir+'/train_results.csv', index=False)"
   ]
  },
  {
   "cell_type": "code",
   "execution_count": null,
   "id": "7facf18d-f727-4139-a62e-c2ef64c900f4",
   "metadata": {},
   "outputs": [],
   "source": []
  }
 ],
 "metadata": {
  "kernelspec": {
   "display_name": "Python 3 (ipykernel)",
   "language": "python",
   "name": "python3"
  },
  "language_info": {
   "codemirror_mode": {
    "name": "ipython",
    "version": 3
   },
   "file_extension": ".py",
   "mimetype": "text/x-python",
   "name": "python",
   "nbconvert_exporter": "python",
   "pygments_lexer": "ipython3",
   "version": "3.10.0"
  }
 },
 "nbformat": 4,
 "nbformat_minor": 5
}
