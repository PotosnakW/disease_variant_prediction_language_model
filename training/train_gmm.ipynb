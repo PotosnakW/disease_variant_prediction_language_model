{
 "cells": [
  {
   "cell_type": "code",
   "execution_count": 232,
   "id": "9412e2f1-2ec2-4b98-bd90-2d3c4f3b4786",
   "metadata": {},
   "outputs": [],
   "source": [
    "import os\n",
    "import numpy as np\n",
    "import pandas as pd\n",
    "import argparse\n",
    "import pickle\n",
    "import tqdm\n",
    "import json\n",
    "from sklearn import mixture, linear_model, svm, gaussian_process\n",
    "import h5py"
   ]
  },
  {
   "cell_type": "code",
   "execution_count": null,
   "id": "05e8dd87-8401-45d6-bddb-1163442dc930",
   "metadata": {},
   "outputs": [],
   "source": []
  },
  {
   "cell_type": "code",
   "execution_count": 233,
   "id": "808a0387-90ea-4a57-9575-7375c715c5ab",
   "metadata": {},
   "outputs": [],
   "source": [
    "data_dir = '/home/scratch/wpotosna/disease_variant_prediction_language_model/data'\n",
    "logodds_dir = '/home/scratch/wpotosna/data'\n",
    "gmm_dir = '/home/scratch/wpotosna/gmm'"
   ]
  },
  {
   "cell_type": "code",
   "execution_count": 234,
   "id": "e21113ea-f5ad-4852-8ccd-5b5ef1425379",
   "metadata": {},
   "outputs": [],
   "source": [
    "mapping_file = pd.read_csv(data_dir+'/labels/ClinVar_labels_P53_PTEN_RASH_SCN5A.csv',low_memory=False)\n",
    "protein_list = [i.replace('.txt', '') for i in os.listdir(data_dir+'/wildtype_protein_sequences/') if (i != 'ACHA_HUMAN')& (i!='.ipynb_checkpoints')]\n",
    "list_variables_to_keep=['protein_name','mutations','evol_indices']\n",
    "protein_GMM_weight = 0.3"
   ]
  },
  {
   "cell_type": "code",
   "execution_count": 241,
   "id": "b15ae966-6534-4add-b401-ca2a79063c57",
   "metadata": {},
   "outputs": [],
   "source": [
    "labels = pd.read_csv(data_dir+'/labels/PTEN_ClinVar_labels.csv')\n",
    "logodds = pd.read_csv(logodds_dir+'/single_logodds.csv', sep=';')\n",
    "\n",
    "protein_names = ['_'.join(i.split('_')[:-1]) for i in logodds.SeqID_SAV.values]\n",
    "mutation_names = [i.split('_')[-1] for i in logodds.SeqID_SAV.values]\n",
    "\n",
    "df = pd.DataFrame(data=[protein_names, mutation_names, logodds.SAV_score.values]).T\n",
    "df.columns = ['protein_name', 'mutations', 'SAV_score']\n",
    "df.set_index(['protein_name', 'mutations'], inplace=True)\n",
    "\n",
    "clinvar_labels = labels.set_index(['protein_name', 'mutations']).loc[df.index.values]\n",
    "\n",
    "dataset = pd.concat([df, clinvar_labels], axis=1)\n",
    "dataset.reset_index(inplace=True, drop=False)\n",
    "\n",
    "dataset.drop(index=dataset[dataset.protein_name=='ALAT2_HUMAN'].index.values[0], inplace=True)"
   ]
  },
  {
   "cell_type": "code",
   "execution_count": null,
   "id": "0289e7c5-9f39-4750-8da6-d714de63cae9",
   "metadata": {},
   "outputs": [],
   "source": []
  },
  {
   "cell_type": "code",
   "execution_count": null,
   "id": "ae2012c0-59c5-4436-b275-f3111088e127",
   "metadata": {},
   "outputs": [],
   "source": []
  },
  {
   "cell_type": "code",
   "execution_count": 243,
   "id": "0d91ab8b-1dd9-46dd-a193-dd05f66678a3",
   "metadata": {},
   "outputs": [],
   "source": [
    "def get_stratified_blocked_train_test_idxs(df, sample_id_label, class_label, test_size=0.20, random_state=0):\n",
    "    np.random.seed(random_state)\n",
    "    \n",
    "    class_mean = df.groupby([sample_id_label]).ClinVar_labels.mean()\n",
    "    class_quantiles = pd.qcut(dataset.groupby('protein_name').ClinVar_labels.mean(), 10)\n",
    "    \n",
    "    quantile_df = {}\n",
    "    for gi, quant in enumerate(set(class_quantiles.values.to_list())):\n",
    "        quantile_df[quant] = gi\n",
    "    class_quantiles = class_quantiles.replace(quantile_df)\n",
    "    \n",
    "    train_sample_ids = []\n",
    "    test_sample_ids = []\n",
    "    for q in set(class_quantiles.values):\n",
    "        b = class_quantiles[class_quantiles==q].copy().index.values\n",
    "        test_sample_ids.extend(b[:round(len(b)*test_size)])\n",
    "        train_sample_ids.extend(b[round(len(b)*test_size):])\n",
    "    \n",
    "    train_idxs = np.where(np.in1d(df[sample_id_label], np.array(train_sample_ids)))[0]   \n",
    "    test_idxs = np.where(np.in1d(df[sample_id_label], np.array(test_sample_ids)))[0] \n",
    "                                \n",
    "    return train_idxs, test_idxs"
   ]
  },
  {
   "cell_type": "code",
   "execution_count": 244,
   "id": "4ee09aca-b14d-41ec-adaf-015ac2409d8a",
   "metadata": {},
   "outputs": [],
   "source": [
    "train_idxs, test_idxs = get_stratified_blocked_train_test_idxs(df=dataset, \n",
    "                                                               sample_id_label='protein_name', \n",
    "                                                               class_label='ClinVar_labels', \n",
    "                                                               test_size=0.20, \n",
    "                                                               random_state=0)\n",
    "\n",
    "X_train = dataset.iloc[train_idxs]\n",
    "X_test = dataset.iloc[test_idxs]"
   ]
  },
  {
   "cell_type": "code",
   "execution_count": null,
   "id": "1b6155f3-a4a9-4bb5-abdd-4aa72c2089b8",
   "metadata": {},
   "outputs": [],
   "source": []
  },
  {
   "cell_type": "code",
   "execution_count": null,
   "id": "00412705-5afb-49b9-9a6a-e754503836f6",
   "metadata": {},
   "outputs": [],
   "source": []
  },
  {
   "cell_type": "code",
   "execution_count": 246,
   "id": "708669c8-1db6-4b0a-91d0-b213879e36bf",
   "metadata": {},
   "outputs": [
    {
     "name": "stderr",
     "output_type": "stream",
     "text": [
      "Training all protein GMMs: 100%|█████████████████████████████████████████████████████████| 103/103 [00:00<00:00, 118.95it/s]\n"
     ]
    }
   ],
   "source": [
    "dict_models = {}\n",
    "dict_pathogenic_cluster_index = {}\n",
    "\n",
    "main_GMM = mixture.GaussianMixture(n_components=2, covariance_type='full',max_iter=1000,n_init=30,tol=1e-4)\n",
    "main_GMM.fit(X_train.SAV_score.values.reshape(-1, 1))\n",
    "        \n",
    "dict_models['main'] = main_GMM\n",
    "pathogenic_cluster_index = np.argmax(np.array(main_GMM.means_).flatten()) #The pathogenic cluster is the cluster with higher mean value\n",
    "dict_pathogenic_cluster_index['main'] = pathogenic_cluster_index\n",
    "\n",
    "with open(gmm_dir+'/gmm_stats.csv', \"a\") as logs:\n",
    "    logs.write(\",\".join(str(x) for x in [\n",
    "        'main', np.array(main_GMM.weights_).flatten()[dict_pathogenic_cluster_index['main']], np.array(main_GMM.means_).flatten()[dict_pathogenic_cluster_index['main']],\n",
    "        np.array(main_GMM.means_).flatten()[1 - dict_pathogenic_cluster_index['main']], np.sqrt(np.array(main_GMM.covariances_).flatten()[dict_pathogenic_cluster_index['main']]),\n",
    "        np.sqrt(np.array(main_GMM.covariances_).flatten()[1 - dict_pathogenic_cluster_index['main']])])+\"\\n\")\n",
    "\n",
    "for protein in tqdm.tqdm(dataset.protein_name.unique(), \"Training all protein GMMs\"):\n",
    "    X_train_protein = dataset[dataset.protein_name==protein].SAV_score.values.reshape(-1, 1)\n",
    "    if len(X_train_protein) > 0: #We have evol indices computed for protein on file\n",
    "        protein_GMM = mixture.GaussianMixture(n_components=2,covariance_type='full',max_iter=1000,tol=1e-4,weights_init=main_GMM.weights_,means_init=main_GMM.means_,precisions_init=main_GMM.precisions_)\n",
    "        protein_GMM.fit(X_train_protein)\n",
    "        dict_models[protein] = protein_GMM\n",
    "        dict_pathogenic_cluster_index[protein] = np.argmax(np.array(protein_GMM.means_).flatten())\n",
    "        with open(gmm_dir+'/gmm_stats.csv', \"a\") as logs:\n",
    "            logs.write(\",\".join(str(x) for x in [\n",
    "                protein, np.array(protein_GMM.weights_).flatten()[dict_pathogenic_cluster_index[protein]], np.array(protein_GMM.means_).flatten()[dict_pathogenic_cluster_index[protein]],\n",
    "                np.array(protein_GMM.means_).flatten()[1 - dict_pathogenic_cluster_index[protein]], np.sqrt(np.array(protein_GMM.covariances_).flatten()[dict_pathogenic_cluster_index[protein]]),\n",
    "                np.sqrt(np.array(protein_GMM.covariances_).flatten()[1 - dict_pathogenic_cluster_index[protein]])\n",
    "                ])+\"\\n\")\n",
    "\n",
    "pickle.dump(dict_models, open(gmm_dir+'/GMM_model_dictionary.pkl', 'wb'))\n",
    "pickle.dump(dict_pathogenic_cluster_index, open(gmm_dir+'/GMM_pathogenic_cluster_index_dictionary.pkl', 'wb'))\n"
   ]
  },
  {
   "cell_type": "code",
   "execution_count": null,
   "id": "66b61f48-13be-4139-bc0c-dc12ac817a71",
   "metadata": {},
   "outputs": [],
   "source": []
  },
  {
   "cell_type": "markdown",
   "id": "344cd5ce-3b60-49b9-8592-141f2cb80ad8",
   "metadata": {},
   "source": [
    "# Compute EVE scores\n"
   ]
  },
  {
   "cell_type": "code",
   "execution_count": 281,
   "id": "ec1764b6-387a-4e03-a0d7-6adba3c0fbbe",
   "metadata": {},
   "outputs": [],
   "source": [
    "\n",
    "\n",
    "def compute_weighted_score_two_GMMs(X_pred, main_model, protein_model, cluster_index_main, cluster_index_protein, protein_weight):\n",
    "    return protein_model.predict_proba(X_pred)[:,cluster_index_protein] * protein_weight + (main_model.predict_proba(X_pred)[:,cluster_index_main]) * (1 - protein_weight)\n",
    "\n",
    "def compute_weighted_class_two_GMMs(X_pred, main_model, protein_model, cluster_index_main, cluster_index_protein, protein_weight):\n",
    "    \"\"\"By construct, 1 is always index of pathogenic, 0 always that of benign\"\"\"\n",
    "    proba_pathogenic = protein_model.predict_proba(X_pred)[:,cluster_index_protein] * protein_weight + (main_model.predict_proba(X_pred)[:,cluster_index_main]) * (1 - protein_weight)\n",
    "    return (proba_pathogenic > 0.5).astype(int)\n",
    "\n",
    "def compute_EVE_scores(X_test, dict_models, dict_pathogenic_cluster_index, protein_GMM_weight):\n",
    "    all_scores = X_test.copy()\n",
    "    if protein_GMM_weight > 0.0:\n",
    "        for protein in tqdm.tqdm(X_test.protein_name.unique(),\"Scoring all protein mutations\"):\n",
    "            \n",
    "            X_test_protein = X_test[X_test.protein_name==protein].SAV_score.values.reshape(-1, 1)\n",
    "            mutation_scores_protein = compute_weighted_score_two_GMMs(X_pred=X_test_protein, \n",
    "                                                                            main_model = dict_models['main'], \n",
    "                                                                            protein_model=dict_models[protein], \n",
    "                                                                            cluster_index_main = dict_pathogenic_cluster_index['main'], \n",
    "                                                                            cluster_index_protein = dict_pathogenic_cluster_index[protein], \n",
    "                                                                            protein_weight = protein_GMM_weight)\n",
    "            gmm_class_protein = compute_weighted_class_two_GMMs(X_pred=X_test_protein, \n",
    "                                                                            main_model = dict_models['main'], \n",
    "                                                                            protein_model=dict_models[protein], \n",
    "                                                                            cluster_index_main = dict_pathogenic_cluster_index['main'], \n",
    "                                                                            cluster_index_protein = dict_pathogenic_cluster_index[protein], \n",
    "                                                                            protein_weight = protein_GMM_weight)\n",
    "\n",
    "            gmm_class_label_protein = pd.Series(gmm_class_protein).map(lambda x: 'Pathogenic' if x == 1 else 'Benign')\n",
    "                    \n",
    "            all_scores.loc[all_scores.protein_name==protein, 'EVE_scores'] = np.array(mutation_scores_protein)\n",
    "            all_scores.loc[all_scores.protein_name==protein, 'EVE_classes_100_pct_retained'] = np.array(gmm_class_label_protein)\n",
    "            all_scores.loc[all_scores.EVE_classes_100_pct_retained=='Benign', 'EVE_classes_100_pct_retained'] = 0.0\n",
    "            all_scores.loc[all_scores.EVE_classes_100_pct_retained=='Pathogenic', 'EVE_classes_100_pct_retained'] = 1.0\n",
    "\n",
    "    else:\n",
    "        all_scores = all_evol_indices.copy()\n",
    "        mutation_scores = dict_models['main'].predict_proba(np.array(all_scores['evol_indices']).reshape(-1, 1))\n",
    "        all_scores['EVE_scores'] = mutation_scores[:,dict_pathogenic_cluster_index['main']]\n",
    "        gmm_class = dict_models['main'].predict(np.array(all_scores['evol_indices']).reshape(-1, 1))\n",
    "        all_scores['EVE_classes_100_pct_retained'] = np.array(pd.Series(gmm_class).map(lambda x: 'Pathogenic' if x == dict_pathogenic_cluster_index['main'] else 'Benign'))\n",
    "        \n",
    "    return all_scores"
   ]
  },
  {
   "cell_type": "code",
   "execution_count": 282,
   "id": "42387419-2ee4-415a-8ea2-cd94524d09ac",
   "metadata": {},
   "outputs": [
    {
     "name": "stderr",
     "output_type": "stream",
     "text": [
      "Scoring all protein mutations: 100%|███████████████████████████████████████████████████████| 20/20 [00:00<00:00, 370.61it/s]\n"
     ]
    }
   ],
   "source": [
    "test_results = compute_EVE_scores(X_test, dict_models, dict_pathogenic_cluster_index, protein_GMM_weight)"
   ]
  },
  {
   "cell_type": "code",
   "execution_count": 283,
   "id": "14489764-cec3-476a-af91-bc076451578a",
   "metadata": {},
   "outputs": [],
   "source": [
    "from sklearn.metrics import accuracy_score"
   ]
  },
  {
   "cell_type": "code",
   "execution_count": 287,
   "id": "3fa01e98-7849-4aae-8a47-0e725766ae6d",
   "metadata": {},
   "outputs": [
    {
     "ename": "ValueError",
     "evalue": "Classification metrics can't handle a mix of binary and unknown targets",
     "output_type": "error",
     "traceback": [
      "\u001b[0;31m---------------------------------------------------------------------------\u001b[0m",
      "\u001b[0;31mValueError\u001b[0m                                Traceback (most recent call last)",
      "Cell \u001b[0;32mIn[287], line 1\u001b[0m\n\u001b[0;32m----> 1\u001b[0m \u001b[43maccuracy_score\u001b[49m\u001b[43m(\u001b[49m\u001b[43mtest_results\u001b[49m\u001b[38;5;241;43m.\u001b[39;49m\u001b[43mClinVar_labels\u001b[49m\u001b[38;5;241;43m.\u001b[39;49m\u001b[43mvalues\u001b[49m\u001b[43m,\u001b[49m\u001b[43m \u001b[49m\u001b[43mtest_results\u001b[49m\u001b[38;5;241;43m.\u001b[39;49m\u001b[43mEVE_classes_100_pct_retained\u001b[49m\u001b[38;5;241;43m.\u001b[39;49m\u001b[43mvalues\u001b[49m\u001b[43m)\u001b[49m\n",
      "File \u001b[0;32m~/.conda/envs/pgm_env/lib/python3.10/site-packages/sklearn/utils/_param_validation.py:192\u001b[0m, in \u001b[0;36mvalidate_params.<locals>.decorator.<locals>.wrapper\u001b[0;34m(*args, **kwargs)\u001b[0m\n\u001b[1;32m    187\u001b[0m validate_parameter_constraints(\n\u001b[1;32m    188\u001b[0m     parameter_constraints, params, caller_name\u001b[38;5;241m=\u001b[39mfunc\u001b[38;5;241m.\u001b[39m\u001b[38;5;18m__qualname__\u001b[39m\n\u001b[1;32m    189\u001b[0m )\n\u001b[1;32m    191\u001b[0m \u001b[38;5;28;01mtry\u001b[39;00m:\n\u001b[0;32m--> 192\u001b[0m     \u001b[38;5;28;01mreturn\u001b[39;00m \u001b[43mfunc\u001b[49m\u001b[43m(\u001b[49m\u001b[38;5;241;43m*\u001b[39;49m\u001b[43margs\u001b[49m\u001b[43m,\u001b[49m\u001b[43m \u001b[49m\u001b[38;5;241;43m*\u001b[39;49m\u001b[38;5;241;43m*\u001b[39;49m\u001b[43mkwargs\u001b[49m\u001b[43m)\u001b[49m\n\u001b[1;32m    193\u001b[0m \u001b[38;5;28;01mexcept\u001b[39;00m InvalidParameterError \u001b[38;5;28;01mas\u001b[39;00m e:\n\u001b[1;32m    194\u001b[0m     \u001b[38;5;66;03m# When the function is just a wrapper around an estimator, we allow\u001b[39;00m\n\u001b[1;32m    195\u001b[0m     \u001b[38;5;66;03m# the function to delegate validation to the estimator, but we replace\u001b[39;00m\n\u001b[1;32m    196\u001b[0m     \u001b[38;5;66;03m# the name of the estimator by the name of the function in the error\u001b[39;00m\n\u001b[1;32m    197\u001b[0m     \u001b[38;5;66;03m# message to avoid confusion.\u001b[39;00m\n\u001b[1;32m    198\u001b[0m     msg \u001b[38;5;241m=\u001b[39m re\u001b[38;5;241m.\u001b[39msub(\n\u001b[1;32m    199\u001b[0m         \u001b[38;5;124mr\u001b[39m\u001b[38;5;124m\"\u001b[39m\u001b[38;5;124mparameter of \u001b[39m\u001b[38;5;124m\\\u001b[39m\u001b[38;5;124mw+ must be\u001b[39m\u001b[38;5;124m\"\u001b[39m,\n\u001b[1;32m    200\u001b[0m         \u001b[38;5;124mf\u001b[39m\u001b[38;5;124m\"\u001b[39m\u001b[38;5;124mparameter of \u001b[39m\u001b[38;5;132;01m{\u001b[39;00mfunc\u001b[38;5;241m.\u001b[39m\u001b[38;5;18m__qualname__\u001b[39m\u001b[38;5;132;01m}\u001b[39;00m\u001b[38;5;124m must be\u001b[39m\u001b[38;5;124m\"\u001b[39m,\n\u001b[1;32m    201\u001b[0m         \u001b[38;5;28mstr\u001b[39m(e),\n\u001b[1;32m    202\u001b[0m     )\n",
      "File \u001b[0;32m~/.conda/envs/pgm_env/lib/python3.10/site-packages/sklearn/metrics/_classification.py:221\u001b[0m, in \u001b[0;36maccuracy_score\u001b[0;34m(y_true, y_pred, normalize, sample_weight)\u001b[0m\n\u001b[1;32m    155\u001b[0m \u001b[38;5;124;03m\"\"\"Accuracy classification score.\u001b[39;00m\n\u001b[1;32m    156\u001b[0m \n\u001b[1;32m    157\u001b[0m \u001b[38;5;124;03mIn multilabel classification, this function computes subset accuracy:\u001b[39;00m\n\u001b[0;32m   (...)\u001b[0m\n\u001b[1;32m    217\u001b[0m \u001b[38;5;124;03m0.5\u001b[39;00m\n\u001b[1;32m    218\u001b[0m \u001b[38;5;124;03m\"\"\"\u001b[39;00m\n\u001b[1;32m    220\u001b[0m \u001b[38;5;66;03m# Compute accuracy for each possible representation\u001b[39;00m\n\u001b[0;32m--> 221\u001b[0m y_type, y_true, y_pred \u001b[38;5;241m=\u001b[39m \u001b[43m_check_targets\u001b[49m\u001b[43m(\u001b[49m\u001b[43my_true\u001b[49m\u001b[43m,\u001b[49m\u001b[43m \u001b[49m\u001b[43my_pred\u001b[49m\u001b[43m)\u001b[49m\n\u001b[1;32m    222\u001b[0m check_consistent_length(y_true, y_pred, sample_weight)\n\u001b[1;32m    223\u001b[0m \u001b[38;5;28;01mif\u001b[39;00m y_type\u001b[38;5;241m.\u001b[39mstartswith(\u001b[38;5;124m\"\u001b[39m\u001b[38;5;124mmultilabel\u001b[39m\u001b[38;5;124m\"\u001b[39m):\n",
      "File \u001b[0;32m~/.conda/envs/pgm_env/lib/python3.10/site-packages/sklearn/metrics/_classification.py:95\u001b[0m, in \u001b[0;36m_check_targets\u001b[0;34m(y_true, y_pred)\u001b[0m\n\u001b[1;32m     92\u001b[0m     y_type \u001b[38;5;241m=\u001b[39m {\u001b[38;5;124m\"\u001b[39m\u001b[38;5;124mmulticlass\u001b[39m\u001b[38;5;124m\"\u001b[39m}\n\u001b[1;32m     94\u001b[0m \u001b[38;5;28;01mif\u001b[39;00m \u001b[38;5;28mlen\u001b[39m(y_type) \u001b[38;5;241m>\u001b[39m \u001b[38;5;241m1\u001b[39m:\n\u001b[0;32m---> 95\u001b[0m     \u001b[38;5;28;01mraise\u001b[39;00m \u001b[38;5;167;01mValueError\u001b[39;00m(\n\u001b[1;32m     96\u001b[0m         \u001b[38;5;124m\"\u001b[39m\u001b[38;5;124mClassification metrics can\u001b[39m\u001b[38;5;124m'\u001b[39m\u001b[38;5;124mt handle a mix of \u001b[39m\u001b[38;5;132;01m{0}\u001b[39;00m\u001b[38;5;124m and \u001b[39m\u001b[38;5;132;01m{1}\u001b[39;00m\u001b[38;5;124m targets\u001b[39m\u001b[38;5;124m\"\u001b[39m\u001b[38;5;241m.\u001b[39mformat(\n\u001b[1;32m     97\u001b[0m             type_true, type_pred\n\u001b[1;32m     98\u001b[0m         )\n\u001b[1;32m     99\u001b[0m     )\n\u001b[1;32m    101\u001b[0m \u001b[38;5;66;03m# We can't have more than one value on y_type => The set is no more needed\u001b[39;00m\n\u001b[1;32m    102\u001b[0m y_type \u001b[38;5;241m=\u001b[39m y_type\u001b[38;5;241m.\u001b[39mpop()\n",
      "\u001b[0;31mValueError\u001b[0m: Classification metrics can't handle a mix of binary and unknown targets"
     ]
    }
   ],
   "source": [
    "accuracy_score(test_results.ClinVar_labels.values, test_results.EVE_classes_100_pct_retained.values)"
   ]
  },
  {
   "cell_type": "code",
   "execution_count": null,
   "id": "65d49c5e-b2f5-458b-a527-7dc5c6521f65",
   "metadata": {},
   "outputs": [],
   "source": []
  },
  {
   "cell_type": "code",
   "execution_count": 298,
   "id": "f54c8282-7c3e-4b2b-b1dd-322f10187eee",
   "metadata": {},
   "outputs": [
    {
     "data": {
      "text/plain": [
       "array([0., 0., 0., 0., 0., 0., 0., 0., 0., 0., 0., 0., 0., 1., 1., 1., 1.,\n",
       "       1., 1., 0., 0., 1., 1., 1., 1., 1., 1., 1., 1., 0., 1., 1., 1., 1.,\n",
       "       1., 1., 1., 1., 1., 1., 1., 1., 1., 1., 1., 1., 1., 1., 1., 1., 1.,\n",
       "       0., 1., 0., 1., 0., 0., 0., 0., 0., 0., 0., 0., 0., 0., 0., 1., 1.,\n",
       "       1., 1., 1., 1., 1., 1., 0., 1., 1., 0., 1., 1., 1., 0., 0., 0., 1.,\n",
       "       1., 1., 1., 1., 1., 0., 1., 1., 1., 1., 1., 1., 0., 1., 0., 1., 0.,\n",
       "       1., 1., 0., 0., 0., 0., 0., 0., 0., 0., 0., 0., 0., 0., 1., 0., 1.,\n",
       "       0., 0., 0., 0., 0., 0., 0., 0., 0., 1., 0., 0., 0., 1., 0., 0., 1.,\n",
       "       1., 1., 1., 0., 0., 1., 0., 0., 1., 1., 1., 1., 0., 1., 0., 1., 1.,\n",
       "       1., 0., 0., 1., 1., 0., 0., 0., 1., 0., 0., 0., 1., 1., 1., 0., 1.,\n",
       "       1., 1., 1., 1., 1., 1., 1., 1., 1., 1., 1., 1., 1., 0., 0., 0., 1.,\n",
       "       0., 0., 1., 1., 0., 1., 0., 1., 1., 1., 1., 1., 1., 1., 1., 1., 1.,\n",
       "       1., 1., 1., 1., 1., 1., 0., 0., 0., 1., 1., 1.])"
      ]
     },
     "execution_count": 298,
     "metadata": {},
     "output_type": "execute_result"
    }
   ],
   "source": [
    "test_results.ClinVar_labels.values"
   ]
  },
  {
   "cell_type": "code",
   "execution_count": null,
   "id": "3a644688-7111-46c7-b260-c1a681ff5cc5",
   "metadata": {},
   "outputs": [],
   "source": []
  }
 ],
 "metadata": {
  "kernelspec": {
   "display_name": "Python 3 (ipykernel)",
   "language": "python",
   "name": "python3"
  },
  "language_info": {
   "codemirror_mode": {
    "name": "ipython",
    "version": 3
   },
   "file_extension": ".py",
   "mimetype": "text/x-python",
   "name": "python",
   "nbconvert_exporter": "python",
   "pygments_lexer": "ipython3",
   "version": "3.10.0"
  }
 },
 "nbformat": 4,
 "nbformat_minor": 5
}
