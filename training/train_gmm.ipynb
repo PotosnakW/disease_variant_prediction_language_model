{
 "cells": [
  {
   "cell_type": "code",
   "execution_count": 5,
   "id": "00412705-5afb-49b9-9a6a-e754503836f6",
   "metadata": {},
   "outputs": [],
   "source": [
    "import os\n",
    "import numpy as np\n",
    "import pandas as pd\n",
    "import argparse\n",
    "import pickle\n",
    "import tqdm\n",
    "from sklearn import mixture, linear_model, svm, gaussian_process\n",
    "from utils import *\n",
    "\n",
    "\n",
    "base_dir = '/xfsdata/wpotosna'\n",
    "data_dir = base_dir+'/disease_variant_prediction_language_model/data'\n",
    "\n"
   ]
  },
  {
   "cell_type": "code",
   "execution_count": 6,
   "id": "a2b259db-9f62-40c3-840c-160c5dbcb49b",
   "metadata": {},
   "outputs": [],
   "source": [
    "baseline_lm_data = pd.read_csv(data_dir+'/baseline_LM_evol_indices_dataset.csv')\n",
    "eve_data = pd.read_csv(data_dir+'/EVE_evol_indices_dataset.csv')\n",
    "lm_gnn_data = pd.read_csv(data_dir+'/LM_GNN_evol_indices_dataset.csv')\n",
    "\n",
    "eve_data.set_index(['protein_name', 'mutations'], inplace=True)\n",
    "baseline_lm_data.set_index(['protein_name', 'mutations'], inplace=True)\n",
    "lm_gnn_data.set_index(['protein_name', 'mutations'], inplace=True)\n",
    "\n",
    "common_proteins = np.array(list(set(eve_data.index.values) \\\n",
    "                                & set(baseline_lm_data.index.values)\\\n",
    "                                & set(lm_gnn_data.index.values)))\n",
    "common_proteins = [tuple(i) for i in common_proteins]\n",
    "\n",
    "indx = pd.MultiIndex.from_tuples(common_proteins, names=[\"first\", \"second\"])\n",
    "baseline_lm_data = baseline_lm_data.loc[indx].reset_index()\n",
    "eve_data = eve_data.loc[indx].reset_index()\n",
    "lm_gnn_data = lm_gnn_data.loc[indx].reset_index()\n",
    "\n",
    "\n"
   ]
  },
  {
   "cell_type": "code",
   "execution_count": null,
   "id": "daed2633-b34a-4852-a570-e905e0b4ddd8",
   "metadata": {},
   "outputs": [],
   "source": []
  },
  {
   "cell_type": "code",
   "execution_count": null,
   "id": "67d29807-5448-4efa-80d1-6faada82d32c",
   "metadata": {},
   "outputs": [],
   "source": []
  },
  {
   "cell_type": "code",
   "execution_count": null,
   "id": "99b3161b-224f-42ee-bd9e-0ae29879962e",
   "metadata": {},
   "outputs": [
    {
     "name": "stderr",
     "output_type": "stream",
     "text": [
      "Training all protein GMMs: 100%|██████████████████████████████████████████████████| 99/99 [00:00<00:00, 109.57it/s]\n",
      "Scoring all protein mutations: 100%|██████████████████████████████████████████████| 79/79 [00:00<00:00, 301.96it/s]\n",
      "Scoring all protein mutations: 100%|██████████████████████████████████████████████| 20/20 [00:00<00:00, 354.93it/s]\n",
      "Training all protein GMMs: 100%|██████████████████████████████████████████████████| 99/99 [00:00<00:00, 114.40it/s]\n",
      "Scoring all protein mutations:   0%|                                                        | 0/79 [00:00<?, ?it/s]"
     ]
    }
   ],
   "source": [
    "protein_GMM_weight = 0.3\n",
    "for dataset_name in ['LM_Baseline', 'EVE', 'LM_GNN']:\n",
    "    if dataset_name == 'LM_Baseline': dataset = baseline_lm_data\n",
    "    elif dataset_name == 'EVE': dataset = eve_data\n",
    "    elif dataset_name == 'LM_GNN': dataset = lm_gnn_data\n",
    "    \n",
    "    train_idxs, test_idxs = get_stratified_blocked_train_test_idxs(df=dataset, \n",
    "                                                               sample_id_label='protein_name', \n",
    "                                                               class_label='ClinVar_labels', \n",
    "                                                               test_size=0.20, \n",
    "                                                               random_state=0)\n",
    "\n",
    "    X_train = dataset.iloc[train_idxs]\n",
    "    X_test = dataset.iloc[test_idxs]\n",
    "    \n",
    "    dict_models, dict_pathogenic_cluster_index = get_gmm_parameters(dataset, X_train)\n",
    "    train_results = compute_EVE_scores(X_train, dict_models, dict_pathogenic_cluster_index, protein_GMM_weight)\n",
    "    test_results = compute_EVE_scores(X_test, dict_models, dict_pathogenic_cluster_index, protein_GMM_weight)\n",
    "\n",
    "    train_results.to_csv(base_dir+f'/disease_variant_prediction_language_model/{dataset_name}_results/{dataset_name}_train_results.csv', index=False)\n",
    "    test_results.to_csv(base_dir+f'/disease_variant_prediction_language_model/{dataset_name}_results/{dataset_name}_test_results.csv', index=False)\n",
    "\n"
   ]
  },
  {
   "cell_type": "code",
   "execution_count": null,
   "id": "acdf70ba-9bcf-46c7-9c59-4138236e18df",
   "metadata": {},
   "outputs": [],
   "source": []
  }
 ],
 "metadata": {
  "kernelspec": {
   "display_name": "Python 3 (ipykernel)",
   "language": "python",
   "name": "python3"
  },
  "language_info": {
   "codemirror_mode": {
    "name": "ipython",
    "version": 3
   },
   "file_extension": ".py",
   "mimetype": "text/x-python",
   "name": "python",
   "nbconvert_exporter": "python",
   "pygments_lexer": "ipython3",
   "version": "3.10.0"
  }
 },
 "nbformat": 4,
 "nbformat_minor": 5
}
