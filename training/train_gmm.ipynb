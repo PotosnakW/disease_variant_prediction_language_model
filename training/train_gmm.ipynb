{
 "cells": [
  {
   "cell_type": "code",
   "execution_count": 1,
   "id": "9412e2f1-2ec2-4b98-bd90-2d3c4f3b4786",
   "metadata": {},
   "outputs": [],
   "source": [
    "import os\n",
    "import numpy as np\n",
    "import pandas as pd\n",
    "import argparse\n",
    "import pickle\n",
    "import tqdm\n",
    "import json\n",
    "from sklearn import mixture, linear_model, svm, gaussian_process\n",
    "import h5py"
   ]
  },
  {
   "cell_type": "code",
   "execution_count": null,
   "id": "8b22a7ff-9b73-436c-9752-951ab5ec4274",
   "metadata": {},
   "outputs": [],
   "source": []
  },
  {
   "cell_type": "code",
   "execution_count": 2,
   "id": "9aadfed5-d50e-4fca-8c69-0a01b1b2a6b6",
   "metadata": {},
   "outputs": [],
   "source": [
    "data = pd.read_csv('/home/scratch/wpotosna/disease_variant_prediction_language_model/data/labels/PTEN_ClinVar_labels.csv')"
   ]
  },
  {
   "cell_type": "code",
   "execution_count": 3,
   "id": "ec18d073-81ff-4aaf-9270-f912180db5b1",
   "metadata": {},
   "outputs": [
    {
     "data": {
      "text/plain": [
       "array(['1433G_HUMAN', '2A5D_HUMAN', '2AAA_HUMAN', '3BP2_HUMAN',\n",
       "       'A1AT_HUMAN', 'A4_HUMAN', 'AAKG2_HUMAN', 'AATM_HUMAN',\n",
       "       'ABCBB_HUMAN', 'ABCD1_HUMAN', 'ABD12_HUMAN', 'ABHD5_HUMAN',\n",
       "       'ACAD9_HUMAN', 'ACHA_HUMAN', 'ACHB_HUMAN', 'ACHD_HUMAN',\n",
       "       'ACHE_HUMAN', 'ACHG_HUMAN', 'ACOX1_HUMAN', 'ACTG_HUMAN',\n",
       "       'ACY2_HUMAN', 'ADA_HUMAN', 'ADA2_HUMAN', 'ADAT3_HUMAN',\n",
       "       'ADRO_HUMAN', 'ADT1_HUMAN', 'AGAL_HUMAN', 'AGM1_HUMAN',\n",
       "       'AHI1_HUMAN', 'AICDA_HUMAN', 'AIFM1_HUMAN', 'AIRE_HUMAN',\n",
       "       'ALAT2_HUMAN', 'ALDOB_HUMAN', 'ALG1_HUMAN', 'ALG11_HUMAN',\n",
       "       'ALG12_HUMAN', 'ALG3_HUMAN', 'ALG6_HUMAN', 'ALR_HUMAN',\n",
       "       'ALS_HUMAN', 'AMACR_HUMAN', 'AMHR2_HUMAN', 'AMPD3_HUMAN',\n",
       "       'ANAG_HUMAN', 'ANGT_HUMAN', 'ANKL2_HUMAN', 'ANO10_HUMAN',\n",
       "       'ANO5_HUMAN', 'ANT3_HUMAN', 'ANTR2_HUMAN', 'AOFA_HUMAN',\n",
       "       'AP2A_HUMAN', 'AP2B_HUMAN', 'AP4B1_HUMAN', 'AP4M1_HUMAN',\n",
       "       'AP4S1_HUMAN', 'APC_HUMAN', 'APOE_HUMAN', 'APTX_HUMAN',\n",
       "       'AQP2_HUMAN', 'ARF_HUMAN', 'ARHG9_HUMAN', 'ARI1A_HUMAN',\n",
       "       'ARL6_HUMAN', 'ARRS_HUMAN', 'ARSA_HUMAN', 'ARSL_HUMAN',\n",
       "       'ARX_HUMAN', 'ASAH1_HUMAN', 'ASM_HUMAN', 'ASNS_HUMAN',\n",
       "       'ASPG_HUMAN', 'ASSY_HUMAN', 'AT132_HUMAN', 'ATD3A_HUMAN',\n",
       "       'ATF6A_HUMAN', 'ATLA1_HUMAN', 'ATM_HUMAN', 'ATP7A_HUMAN',\n",
       "       'ATP7B_HUMAN', 'ATPF2_HUMAN', 'ATRX_HUMAN', 'B3GA3_HUMAN',\n",
       "       'B3GL2_HUMAN', 'B3GLT_HUMAN', 'B4GT7_HUMAN', 'B9D1_HUMAN',\n",
       "       'B9D2_HUMAN', 'BAG3_HUMAN', 'BBS1_HUMAN', 'BBS10_HUMAN',\n",
       "       'BBS12_HUMAN', 'BBS2_HUMAN', 'BBS4_HUMAN', 'BCS1_HUMAN',\n",
       "       'BGAL_HUMAN', 'BGH3_HUMAN', 'BICD2_HUMAN', 'BMPR2_HUMAN'],\n",
       "      dtype=object)"
      ]
     },
     "execution_count": 3,
     "metadata": {},
     "output_type": "execute_result"
    }
   ],
   "source": [
    "data.protein_name.unique()[:100]"
   ]
  },
  {
   "cell_type": "code",
   "execution_count": null,
   "id": "05e8dd87-8401-45d6-bddb-1163442dc930",
   "metadata": {},
   "outputs": [],
   "source": []
  },
  {
   "cell_type": "code",
   "execution_count": 7,
   "id": "808a0387-90ea-4a57-9575-7375c715c5ab",
   "metadata": {},
   "outputs": [],
   "source": [
    "data_dir = '/home/scratch/wpotosna/disease_variant_prediction_language_model/data'\n",
    "GMM_stats_log_location = '/home/scratch/wpotosna/gmm/gmm_stats.csv'\n",
    "GMM_stats_path = '/home/scratch/wpotosna/gmm'"
   ]
  },
  {
   "cell_type": "code",
   "execution_count": 8,
   "id": "e21113ea-f5ad-4852-8ccd-5b5ef1425379",
   "metadata": {},
   "outputs": [],
   "source": [
    "mapping_file = pd.read_csv(data_dir+'/labels/ClinVar_labels_P53_PTEN_RASH_SCN5A.csv',low_memory=False)\n",
    "protein_list = np.unique(mapping_file['protein_name'])\n",
    "list_variables_to_keep=['protein_name','mutations','evol_indices']"
   ]
  },
  {
   "cell_type": "code",
   "execution_count": null,
   "id": "61db704c-f945-4e95-8659-79c39ad29b93",
   "metadata": {},
   "outputs": [],
   "source": []
  },
  {
   "cell_type": "code",
   "execution_count": null,
   "id": "01f8cde1-74d5-43ab-97f0-d426d5cb10d7",
   "metadata": {},
   "outputs": [],
   "source": []
  },
  {
   "cell_type": "code",
   "execution_count": 28,
   "id": "c03bf54c-d812-419d-9d0d-554f5b888de4",
   "metadata": {},
   "outputs": [],
   "source": [
    "path = '/home/scratch/wpotosna/data/logodds.h5'\n",
    "h5 = h5py.File(path,'r')\n",
    "\n",
    "logodds = []\n",
    "protein_names = []\n",
    "for seq in h5.keys():\n",
    "    seq_array = np.array(h5[seq])\n",
    "    logodds.extend(seq_array)\n",
    "    protein_names.extend(np.repeat(np.array(seq), seq_array.shape[0])) \n",
    "    \n",
    "all_evol_indices = pd.DataFrame(logodds, index=protein_names)\n",
    "all_evol_indices.index.name = 'protein_name'\n",
    "all_evol_indices.reset_index(inplace=True, drop=False)\n",
    "\n",
    "X_train = all_evol_indices.iloc[:, 1:].values.reshape(-1, 1)\n",
    "X_test = all_evol_indices.iloc[:, 1:].values"
   ]
  },
  {
   "cell_type": "code",
   "execution_count": null,
   "id": "e59f47d5-e8bb-4ed4-91dc-b75c6303366d",
   "metadata": {},
   "outputs": [],
   "source": []
  },
  {
   "cell_type": "code",
   "execution_count": 12,
   "id": "708669c8-1db6-4b0a-91d0-b213879e36bf",
   "metadata": {},
   "outputs": [
    {
     "name": "stderr",
     "output_type": "stream",
     "text": [
      "Training all protein GMMs: 100%|████████████████████████████████████████████████████| 4/4 [00:00<00:00, 50.62it/s]\n"
     ]
    }
   ],
   "source": [
    "dict_models = {}\n",
    "dict_pathogenic_cluster_index = {}\n",
    "\n",
    "main_GMM = mixture.GaussianMixture(n_components=2, covariance_type='full',max_iter=1000,n_init=30,tol=1e-4)\n",
    "main_GMM.fit(X_train)\n",
    "        \n",
    "dict_models['main'] = main_GMM\n",
    "pathogenic_cluster_index = np.argmax(np.array(main_GMM.means_).flatten()) #The pathogenic cluster is the cluster with higher mean value\n",
    "dict_pathogenic_cluster_index['main'] = pathogenic_cluster_index\n",
    "\n",
    "with open(GMM_stats_log_location, \"a\") as logs:\n",
    "    logs.write(\",\".join(str(x) for x in [\n",
    "        'main', np.array(main_GMM.weights_).flatten()[dict_pathogenic_cluster_index['main']], np.array(main_GMM.means_).flatten()[dict_pathogenic_cluster_index['main']],\n",
    "        np.array(main_GMM.means_).flatten()[1 - dict_pathogenic_cluster_index['main']], np.sqrt(np.array(main_GMM.covariances_).flatten()[dict_pathogenic_cluster_index['main']]),\n",
    "        np.sqrt(np.array(main_GMM.covariances_).flatten()[1 - dict_pathogenic_cluster_index['main']])])+\"\\n\")\n",
    "    \n",
    "\n",
    "for protein in tqdm.tqdm(protein_list, \"Training all protein GMMs\"):\n",
    "    X_train_protein = all_evol_indices[all_evol_indices.protein_name=='seq1'].iloc[:, 1:].values.reshape(-1, 1)\n",
    "    if len(X_train_protein) > 0: #We have evol indices computed for protein on file\n",
    "        protein_GMM = mixture.GaussianMixture(n_components=2,covariance_type='full',max_iter=1000,tol=1e-4,weights_init=main_GMM.weights_,means_init=main_GMM.means_,precisions_init=main_GMM.precisions_)\n",
    "        protein_GMM.fit(X_train_protein)\n",
    "        dict_models[protein] = protein_GMM\n",
    "        dict_pathogenic_cluster_index[protein] = np.argmax(np.array(protein_GMM.means_).flatten())\n",
    "        with open(GMM_stats_log_location, \"a\") as logs:\n",
    "            logs.write(\",\".join(str(x) for x in [\n",
    "                protein, np.array(protein_GMM.weights_).flatten()[dict_pathogenic_cluster_index[protein]], np.array(protein_GMM.means_).flatten()[dict_pathogenic_cluster_index[protein]],\n",
    "                np.array(protein_GMM.means_).flatten()[1 - dict_pathogenic_cluster_index[protein]], np.sqrt(np.array(protein_GMM.covariances_).flatten()[dict_pathogenic_cluster_index[protein]]),\n",
    "                np.sqrt(np.array(protein_GMM.covariances_).flatten()[1 - dict_pathogenic_cluster_index[protein]])\n",
    "                ])+\"\\n\")\n",
    "    else:\n",
    "        if args.verbose:\n",
    "            print(\"No evol indices for the protein: \"+str(protein)+\". Skipping.\")\n",
    "        \n",
    "pickle.dump(dict_models, open(GMM_stats_path+'/GMM_model_dictionary.pkl', 'wb'))\n",
    "pickle.dump(dict_pathogenic_cluster_index, open(GMM_stats_path+'/GMM_pathogenic_cluster_index_dictionary.pkl', 'wb'))\n",
    "\n",
    "\n"
   ]
  },
  {
   "cell_type": "code",
   "execution_count": null,
   "id": "5ee0dca5-c288-43cb-bad4-793b32f79ed6",
   "metadata": {},
   "outputs": [],
   "source": []
  },
  {
   "cell_type": "code",
   "execution_count": null,
   "id": "e1847a9d-3885-49af-915a-d44affc6aa38",
   "metadata": {},
   "outputs": [],
   "source": []
  },
  {
   "cell_type": "code",
   "execution_count": 36,
   "id": "686596dc-50de-44c4-97af-c4e1ccc0ec8b",
   "metadata": {},
   "outputs": [
    {
     "data": {
      "text/plain": [
       "{'covariance_type': 'full',\n",
       " 'init_params': 'kmeans',\n",
       " 'max_iter': 1000,\n",
       " 'means_init': None,\n",
       " 'n_components': 2,\n",
       " 'n_init': 30,\n",
       " 'precisions_init': None,\n",
       " 'random_state': None,\n",
       " 'reg_covar': 1e-06,\n",
       " 'tol': 0.0001,\n",
       " 'verbose': 0,\n",
       " 'verbose_interval': 10,\n",
       " 'warm_start': False,\n",
       " 'weights_init': None}"
      ]
     },
     "execution_count": 36,
     "metadata": {},
     "output_type": "execute_result"
    }
   ],
   "source": [
    "main_GMM.get_params()"
   ]
  },
  {
   "cell_type": "code",
   "execution_count": 38,
   "id": "00312149-3683-43c0-99c7-e5ab05e26421",
   "metadata": {},
   "outputs": [
    {
     "data": {
      "text/plain": [
       "array([0.41935484, 0.58064516])"
      ]
     },
     "execution_count": 38,
     "metadata": {},
     "output_type": "execute_result"
    }
   ],
   "source": [
    "main_GMM.weights_"
   ]
  },
  {
   "cell_type": "code",
   "execution_count": null,
   "id": "66b61f48-13be-4139-bc0c-dc12ac817a71",
   "metadata": {},
   "outputs": [],
   "source": []
  },
  {
   "cell_type": "markdown",
   "id": "344cd5ce-3b60-49b9-8592-141f2cb80ad8",
   "metadata": {},
   "source": [
    "# Compute EVE scores\n"
   ]
  },
  {
   "cell_type": "code",
   "execution_count": 43,
   "id": "ec1764b6-387a-4e03-a0d7-6adba3c0fbbe",
   "metadata": {},
   "outputs": [],
   "source": [
    "\n",
    "\n",
    "def compute_weighted_score_two_GMMs(X_pred, main_model, protein_model, cluster_index_main, cluster_index_protein, protein_weight):\n",
    "    return protein_model.predict_proba(X_pred)[:,cluster_index_protein] * protein_weight + (main_model.predict_proba(X_pred)[:,cluster_index_main]) * (1 - protein_weight)\n",
    "\n",
    "def compute_weighted_class_two_GMMs(X_pred, main_model, protein_model, cluster_index_main, cluster_index_protein, protein_weight):\n",
    "    \"\"\"By construct, 1 is always index of pathogenic, 0 always that of benign\"\"\"\n",
    "    proba_pathogenic = protein_model.predict_proba(X_pred)[:,cluster_index_protein] * protein_weight + (main_model.predict_proba(X_pred)[:,cluster_index_main]) * (1 - protein_weight)\n",
    "    return (proba_pathogenic > 0.5).astype(int)\n",
    "\n",
    "def compute_EVE_scores(test_data_protein, all_evol_indices, dict_models, dict_pathogenic_cluster_index, protein_GMM_weight):\n",
    "    if protein_GMM_weight > 0.0:\n",
    "        all_scores = all_evol_indices.copy()\n",
    "        all_scores['EVE_scores'] = np.nan\n",
    "        all_scores['EVE_classes_100_pct_retained'] = \"\"\n",
    "        for protein in tqdm.tqdm(protein_list,\"Scoring all protein mutations\"):\n",
    "            try:\n",
    "                test_data_protein = all_scores[all_scores.protein_name==protein]\n",
    "                X_test_protein = np.array(test_data_protein).reshape(-1, 1)\n",
    "                mutation_scores_protein = compute_weighted_score_two_GMMs(X_pred=X_test_protein, \n",
    "                                                                            main_model = dict_models['main'], \n",
    "                                                                            protein_model=dict_models[protein], \n",
    "                                                                            cluster_index_main = dict_pathogenic_cluster_index['main'], \n",
    "                                                                            cluster_index_protein = dict_pathogenic_cluster_index[protein], \n",
    "                                                                            protein_weight = protein_GMM_weight)\n",
    "                gmm_class_protein = compute_weighted_class_two_GMMs(X_pred=X_test_protein, \n",
    "                                                                            main_model = dict_models['main'], \n",
    "                                                                            protein_model=dict_models[protein], \n",
    "                                                                            cluster_index_main = dict_pathogenic_cluster_index['main'], \n",
    "                                                                            cluster_index_protein = dict_pathogenic_cluster_index[protein], \n",
    "                                                                            protein_weight = protein_GMM_weight)\n",
    "                print(mutation_scores_protein)\n",
    "                gmm_class_label_protein = pd.Series(gmm_class_protein).map(lambda x: 'Pathogenic' if x == 1 else 'Benign')\n",
    "                    \n",
    "                all_scores.loc[all_scores.protein_name==protein, 'EVE_scores'] = np.array(mutation_scores_protein)\n",
    "                all_scores.loc[all_scores.protein_name==protein, 'EVE_classes_100_pct_retained'] = np.array(gmm_class_label_protein)\n",
    "            except:\n",
    "                print(\"Issues with protein: \"+str(protein)+\". Skipping.\")\n",
    "    else:\n",
    "        all_scores = all_evol_indices.copy()\n",
    "        mutation_scores = dict_models['main'].predict_proba(np.array(all_scores['evol_indices']).reshape(-1, 1))\n",
    "        all_scores['EVE_scores'] = mutation_scores[:,dict_pathogenic_cluster_index['main']]\n",
    "        gmm_class = dict_models['main'].predict(np.array(all_scores['evol_indices']).reshape(-1, 1))\n",
    "        all_scores['EVE_classes_100_pct_retained'] = np.array(pd.Series(gmm_class).map(lambda x: 'Pathogenic' if x == dict_pathogenic_cluster_index['main'] else 'Benign'))\n",
    "        \n",
    "    len_before_drop_na = len(all_scores)\n",
    "    all_scores = all_scores.dropna(subset=['EVE_scores'])\n",
    "    len_after_drop_na = len(all_scores)"
   ]
  },
  {
   "cell_type": "code",
   "execution_count": null,
   "id": "a683ad2f-dc9a-4b16-bc18-a0ab8325c569",
   "metadata": {},
   "outputs": [],
   "source": []
  },
  {
   "cell_type": "code",
   "execution_count": 44,
   "id": "099c59aa-b755-4ef4-8b1b-ec8357132cf9",
   "metadata": {},
   "outputs": [
    {
     "name": "stderr",
     "output_type": "stream",
     "text": [
      "Scoring all protein mutations: 100%|██████████████████████████████████████████████| 4/4 [00:00<00:00, 1243.40it/s]"
     ]
    },
    {
     "name": "stdout",
     "output_type": "stream",
     "text": [
      "Issues with protein: P53_HUMAN. Skipping.\n",
      "Issues with protein: PTEN_HUMAN. Skipping.\n",
      "Issues with protein: RASH_HUMAN. Skipping.\n",
      "Issues with protein: SCN5A_HUMAN. Skipping.\n"
     ]
    },
    {
     "name": "stderr",
     "output_type": "stream",
     "text": [
      "\n"
     ]
    }
   ],
   "source": [
    "compute_EVE_scores(X_test, all_evol_indices, dict_models, dict_pathogenic_cluster_index, main_GMM.weights_.mean())"
   ]
  },
  {
   "cell_type": "code",
   "execution_count": null,
   "id": "ad637483-0f15-4861-bb06-27f1ce1f3abf",
   "metadata": {},
   "outputs": [],
   "source": []
  },
  {
   "cell_type": "code",
   "execution_count": null,
   "id": "1a0f16b2-d5b0-4d07-9817-600ee40f5aa1",
   "metadata": {},
   "outputs": [],
   "source": []
  }
 ],
 "metadata": {
  "kernelspec": {
   "display_name": "Python 3 (ipykernel)",
   "language": "python",
   "name": "python3"
  },
  "language_info": {
   "codemirror_mode": {
    "name": "ipython",
    "version": 3
   },
   "file_extension": ".py",
   "mimetype": "text/x-python",
   "name": "python",
   "nbconvert_exporter": "python",
   "pygments_lexer": "ipython3",
   "version": "3.10.0"
  }
 },
 "nbformat": 4,
 "nbformat_minor": 5
}
